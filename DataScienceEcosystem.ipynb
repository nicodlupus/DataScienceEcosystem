{
 "cells": [
  {
   "cell_type": "markdown",
   "id": "adef6698-19f9-4bb2-826c-a934e746fc3b",
   "metadata": {},
   "source": [
    "# Data Science Tools and Ecosystem"
   ]
  },
  {
   "cell_type": "markdown",
   "id": "15ab673b-e808-4002-94d3-83e0531d2ac0",
   "metadata": {},
   "source": [
    "In this notebook I summarize the Data Science Tools and Ecosystem."
   ]
  },
  {
   "cell_type": "markdown",
   "id": "4bf7d141-6684-4fbc-b577-afe687fb3d20",
   "metadata": {},
   "source": [
    "**Objectives:**\n",
    "- List popular languages for Data Science\n",
    "- List commonly used libraries in Data Science\n",
    "- Demonstrate basic arithmetic operations in Python\n",
    "- Introduce development environment tools for Data Science\n"
   ]
  },
  {
   "cell_type": "markdown",
   "id": "d6cb1d8a-7795-4bed-ba2e-4786bf059056",
   "metadata": {},
   "source": [
    "In Data Science, we use many programming languages like:\n",
    "1. Python\n",
    "2. R\n",
    "3. SQL\n",
    "4. Julia\n",
    "5. Java\n"
   ]
  },
  {
   "cell_type": "markdown",
   "id": "052dc90c-56a7-4a8b-8944-b6ecc565981c",
   "metadata": {},
   "source": [
    "Here we have some of the most commonly used libraries:\n",
    "1. Pandas\n",
    "2. NumPy\n",
    "3. Matplotlib\n",
    "4. Scikit-learn\n",
    "5. TensorFlow\n"
   ]
  },
  {
   "cell_type": "markdown",
   "id": "a2c77818-4dfd-4b7b-8f46-fc0565d725f4",
   "metadata": {},
   "source": [
    "Below, we have some Data Science tools:\n",
    "| Data Science Tools |\n",
    "| ------------------ |\n",
    "| Jupyter Notebooks  |\n",
    "| RStudio            |\n",
    "| Apache Zeppelin    |\n"
   ]
  },
  {
   "cell_type": "markdown",
   "id": "f65915ca-7a92-462e-a786-7e3b4a705784",
   "metadata": {
    "tags": []
   },
   "source": [
    "### Below are a few examples of evaluating arithmetic expressions using Python"
   ]
  },
  {
   "cell_type": "code",
   "execution_count": 2,
   "id": "654026f7-6118-4039-a90f-3293522cbec4",
   "metadata": {
    "tags": []
   },
   "outputs": [
    {
     "data": {
      "text/plain": [
       "17"
      ]
     },
     "execution_count": 2,
     "metadata": {},
     "output_type": "execute_result"
    }
   ],
   "source": [
    "(3*4)+5"
   ]
  },
  {
   "cell_type": "code",
   "execution_count": 3,
   "id": "a90f58e3-c6ad-40d1-a317-fc256c52dcbf",
   "metadata": {
    "tags": []
   },
   "outputs": [
    {
     "data": {
      "text/plain": [
       "3.3333333333333335"
      ]
     },
     "execution_count": 3,
     "metadata": {},
     "output_type": "execute_result"
    }
   ],
   "source": [
    "200 / 60"
   ]
  },
  {
   "cell_type": "markdown",
   "id": "2fcb0599-8813-47eb-aa66-182299278c98",
   "metadata": {},
   "source": [
    "## Author\n",
    "Nikolas Antoniou\n"
   ]
  }
 ],
 "metadata": {
  "kernelspec": {
   "display_name": "Python 3 (ipykernel)",
   "language": "python",
   "name": "python3"
  },
  "language_info": {
   "codemirror_mode": {
    "name": "ipython",
    "version": 3
   },
   "file_extension": ".py",
   "mimetype": "text/x-python",
   "name": "python",
   "nbconvert_exporter": "python",
   "pygments_lexer": "ipython3",
   "version": "3.11.4"
  }
 },
 "nbformat": 4,
 "nbformat_minor": 5
}
